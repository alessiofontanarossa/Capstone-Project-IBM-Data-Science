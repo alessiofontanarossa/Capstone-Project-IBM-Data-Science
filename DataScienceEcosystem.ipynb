{
 "cells": [
  {
   "cell_type": "markdown",
   "id": "8097f549-838e-47d5-93c3-a8d2b7501969",
   "metadata": {},
   "source": [
    "# Data Science Tools and Ecosystem"
   ]
  },
  {
   "cell_type": "markdown",
   "id": "1a7949e8-9854-4e77-b345-b1e9e7ecb9b2",
   "metadata": {},
   "source": [
    "**In this notebook, Data Science Tools and Ecosystem are summarized.**"
   ]
  },
  {
   "cell_type": "markdown",
   "id": "d28585b1-a04d-4263-8ce9-f3f799cc6c81",
   "metadata": {},
   "source": [
    "**Objectives:**"
   ]
  },
  {
   "cell_type": "markdown",
   "id": "eba1c8bc-cbf0-46e7-a88e-98ec205f0530",
   "metadata": {},
   "source": [
    "- Python\n",
    "- R\n",
    "- SQL\n",
    "- Java"
   ]
  },
  {
   "cell_type": "markdown",
   "id": "5f560281-a77e-4e6f-ba76-8b2f48738201",
   "metadata": {},
   "source": [
    "## Author\n",
    "Alessio Fontanarossa"
   ]
  },
  {
   "cell_type": "markdown",
   "id": "510092f4-d149-4d5a-8e19-6e8f89cb17e5",
   "metadata": {},
   "source": [
    "*Some of the popular languages that Data Scientists use are:*"
   ]
  },
  {
   "cell_type": "markdown",
   "id": "f4caf457-a6f5-417c-839e-54b64b7dc154",
   "metadata": {},
   "source": [
    "1. c++\n",
    "2. java\n",
    "3. python"
   ]
  },
  {
   "cell_type": "markdown",
   "id": "1e8894ec-5ed4-4ef7-a5ab-9a19d816f9fa",
   "metadata": {},
   "source": [
    "Some of the commonly used libraries used by Data Scientists include:"
   ]
  },
  {
   "cell_type": "markdown",
   "id": "6db4e86c-db6d-40e6-a1e8-316a5637d332",
   "metadata": {},
   "source": [
    "1. numphy\n",
    "2. plotly\n",
    "3. matplotlib"
   ]
  },
  {
   "cell_type": "markdown",
   "id": "5190abf5-5cf0-4a5c-8c18-e4f3eeea08f1",
   "metadata": {},
   "source": [
    "| Data Science Tools|\n",
    "|---|\n",
    "|Rstudio|\n",
    "|Jupyter lab|\n",
    "|VS|"
   ]
  },
  {
   "cell_type": "markdown",
   "id": "85af8863-276d-4010-ba6d-4e74da86bb08",
   "metadata": {},
   "source": [
    "### Below are a few examples of evaluating arithmetic expressions in Python"
   ]
  },
  {
   "cell_type": "code",
   "execution_count": 1,
   "id": "f8f529ed-e0f2-43c8-8e69-3ca7a64cab74",
   "metadata": {},
   "outputs": [
    {
     "data": {
      "text/plain": [
       "17"
      ]
     },
     "execution_count": 1,
     "metadata": {},
     "output_type": "execute_result"
    }
   ],
   "source": [
    "#This a simple arithmetic expression to mutiply then add integers\n",
    "\n",
    "(3*4)+5"
   ]
  },
  {
   "cell_type": "code",
   "execution_count": 2,
   "id": "42602b16-d5ae-4bfb-8a25-317b6862113e",
   "metadata": {},
   "outputs": [
    {
     "data": {
      "text/plain": [
       "3.3333333333333335"
      ]
     },
     "execution_count": 2,
     "metadata": {},
     "output_type": "execute_result"
    }
   ],
   "source": [
    "#This will convert 200 minutes to hours by diving by 60\n",
    "\n",
    "200/60"
   ]
  }
 ],
 "metadata": {
  "kernelspec": {
   "display_name": "Python 3 (ipykernel)",
   "language": "python",
   "name": "python3"
  },
  "language_info": {
   "codemirror_mode": {
    "name": "ipython",
    "version": 3
   },
   "file_extension": ".py",
   "mimetype": "text/x-python",
   "name": "python",
   "nbconvert_exporter": "python",
   "pygments_lexer": "ipython3",
   "version": "3.13.2"
  }
 },
 "nbformat": 4,
 "nbformat_minor": 5
}
